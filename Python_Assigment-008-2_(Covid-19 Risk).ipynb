{
 "cells": [
  {
   "cell_type": "code",
   "execution_count": 2,
   "metadata": {},
   "outputs": [
    {
     "name": "stdout",
     "output_type": "stream",
     "text": [
      "Are you a cigarette addict older than 75 years old?(yes/no)    :yes\n",
      "Do you have a severe chronic disease?(yes/no)    :yes\n",
      "Is your immune system too weak?(yes/no)    :no\n",
      "You are in risky group\n"
     ]
    }
   ],
   "source": [
    "age = (input(\"Are you a cigarette addict older than 75 years old?(yes/no)    :\").lower() == \"yes\")\n",
    "\n",
    "chronic = (input(\"Do you have a severe chronic disease?(yes/no)    :\").lower() == \"yes\")\n",
    "\n",
    "immune = (input(\"Is your immune system too weak?(yes/no)    :\").lower() == \"yes\")\n",
    "\n",
    "risk = age or chronic or immune\n",
    "\n",
    "if risk:\n",
    "  print (\"You are in risky group\")\n",
    "\n",
    "else:\n",
    "  print(\"You are not in risky group\")"
   ]
  }
 ],
 "metadata": {
  "kernelspec": {
   "display_name": "Python 3",
   "language": "python",
   "name": "python3"
  },
  "language_info": {
   "codemirror_mode": {
    "name": "ipython",
    "version": 3
   },
   "file_extension": ".py",
   "mimetype": "text/x-python",
   "name": "python",
   "nbconvert_exporter": "python",
   "pygments_lexer": "ipython3",
   "version": "3.8.5"
  }
 },
 "nbformat": 4,
 "nbformat_minor": 4
}
