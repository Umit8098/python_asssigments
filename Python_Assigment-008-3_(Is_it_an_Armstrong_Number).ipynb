{
 "cells": [
  {
   "cell_type": "code",
   "execution_count": 3,
   "metadata": {},
   "outputs": [
    {
     "name": "stdout",
     "output_type": "stream",
     "text": [
      "1634\n",
      "1634 is an Armstrong number\n"
     ]
    }
   ],
   "source": [
    "number = input()\n",
    "sum = 0\n",
    "\n",
    "while not number.isdigit():\n",
    "  print(\"It is an invalid entry. Don't use non-numeric, float, or negative values!\")\n",
    "  number = input()\n",
    "\n",
    "for i in number:\n",
    "  sum += int(i) ** len(number)\n",
    "\n",
    "if number == str(sum):\n",
    "  print(number, \"is an Armstrong number\")\n",
    "else:\n",
    "  print(number, \"is not an Armstrong number\")"
   ]
  },
  {
   "cell_type": "code",
   "execution_count": null,
   "metadata": {},
   "outputs": [],
   "source": []
  }
 ],
 "metadata": {
  "kernelspec": {
   "display_name": "Python 3",
   "language": "python",
   "name": "python3"
  },
  "language_info": {
   "codemirror_mode": {
    "name": "ipython",
    "version": 3
   },
   "file_extension": ".py",
   "mimetype": "text/x-python",
   "name": "python",
   "nbconvert_exporter": "python",
   "pygments_lexer": "ipython3",
   "version": "3.8.5"
  }
 },
 "nbformat": 4,
 "nbformat_minor": 4
}
