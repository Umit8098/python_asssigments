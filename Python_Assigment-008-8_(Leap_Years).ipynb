{
 "cells": [
  {
   "cell_type": "code",
   "execution_count": 1,
   "metadata": {},
   "outputs": [
    {
     "name": "stdout",
     "output_type": "stream",
     "text": [
      "Please enter a year to see if it is a leap year or not  : 2400\n",
      "2400 is a leap year.\n"
     ]
    }
   ],
   "source": [
    "year = input(\"Please enter a year to see if it is a leap year or not  : \")\n",
    "if int(year) % 4 == 0 and int(year) % 100 == 0 and int(year) % 400 == 0:\n",
    "  print(year, \"is a leap year.\")\n",
    "else:\n",
    "  print(year, \"is not a leap year.\")"
   ]
  },
  {
   "cell_type": "code",
   "execution_count": null,
   "metadata": {},
   "outputs": [],
   "source": []
  }
 ],
 "metadata": {
  "kernelspec": {
   "display_name": "Python 3",
   "language": "python",
   "name": "python3"
  },
  "language_info": {
   "codemirror_mode": {
    "name": "ipython",
    "version": 3
   },
   "file_extension": ".py",
   "mimetype": "text/x-python",
   "name": "python",
   "nbconvert_exporter": "python",
   "pygments_lexer": "ipython3",
   "version": "3.8.5"
  }
 },
 "nbformat": 4,
 "nbformat_minor": 4
}
