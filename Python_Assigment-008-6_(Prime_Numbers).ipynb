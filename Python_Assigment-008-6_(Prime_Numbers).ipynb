{
 "cells": [
  {
   "cell_type": "code",
   "execution_count": 4,
   "metadata": {},
   "outputs": [
    {
     "name": "stdout",
     "output_type": "stream",
     "text": [
      "Please enter a positive whole number bigger than 1 : 100\n",
      "[2, 3, 5, 7, 11, 13, 17, 19, 23, 29, 31, 37, 41, 43, 47, 53, 59, 61, 67, 71, 73, 79, 83, 89, 97]\n"
     ]
    }
   ],
   "source": [
    "n = int(input(\"Please enter a positive whole number bigger than 1 : \"))\n",
    "if n >= 2:\n",
    "  l={2,}\n",
    "  for x in range(2,n+1):\n",
    "    for y in range(2,x):\n",
    "      if x % y == 0:\n",
    "        if x in l:\n",
    "          l.remove(x)\n",
    "          break\n",
    "        else:\n",
    "          break\n",
    "      else:\n",
    "        l.add(x)\n",
    "  print(list(l))\n",
    "\n",
    "else:\n",
    "  print(\"You have entered an invalid number!\")"
   ]
  },
  {
   "cell_type": "code",
   "execution_count": null,
   "metadata": {},
   "outputs": [],
   "source": [
    "\n"
   ]
  }
 ],
 "metadata": {
  "kernelspec": {
   "display_name": "Python 3",
   "language": "python",
   "name": "python3"
  },
  "language_info": {
   "codemirror_mode": {
    "name": "ipython",
    "version": 3
   },
   "file_extension": ".py",
   "mimetype": "text/x-python",
   "name": "python",
   "nbconvert_exporter": "python",
   "pygments_lexer": "ipython3",
   "version": "3.8.5"
  }
 },
 "nbformat": 4,
 "nbformat_minor": 4
}
